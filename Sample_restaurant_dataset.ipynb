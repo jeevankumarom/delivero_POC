{
 "cells": [
  {
   "cell_type": "markdown",
   "id": "31b64fdb",
   "metadata": {},
   "source": [
    "## Discovering deduplication using the Recordlinkage toolkit\n",
    "This code is designed to identify duplicate records and retrieve two sample restaurant datasets that are considered **duplicates.**"
   ]
  },
  {
   "cell_type": "code",
   "execution_count": 1,
   "id": "d18ddc46",
   "metadata": {},
   "outputs": [],
   "source": [
    "import recordlinkage\n",
    "import pandas as pd"
   ]
  },
  {
   "cell_type": "markdown",
   "id": "d8b94214",
   "metadata": {},
   "source": [
    "Read the sample restaurant dataset"
   ]
  },
  {
   "cell_type": "code",
   "execution_count": 2,
   "id": "c52391dc",
   "metadata": {},
   "outputs": [],
   "source": [
    "sample_restaurant_df_1 = pd.read_excel('./Final_df.xlsx',sheet_name='Halal')\n",
    "sample_restaurant_df_2 = pd.read_excel('./Final_df.xlsx',sheet_name='Pizza')"
   ]
  },
  {
   "cell_type": "code",
   "execution_count": 3,
   "id": "c99506a3",
   "metadata": {},
   "outputs": [
    {
     "data": {
      "text/html": [
       "<div>\n",
       "<style scoped>\n",
       "    .dataframe tbody tr th:only-of-type {\n",
       "        vertical-align: middle;\n",
       "    }\n",
       "\n",
       "    .dataframe tbody tr th {\n",
       "        vertical-align: top;\n",
       "    }\n",
       "\n",
       "    .dataframe thead th {\n",
       "        text-align: right;\n",
       "    }\n",
       "</style>\n",
       "<table border=\"1\" class=\"dataframe\">\n",
       "  <thead>\n",
       "    <tr style=\"text-align: right;\">\n",
       "      <th></th>\n",
       "      <th>Unnamed: 0</th>\n",
       "      <th>Restaurant_ID</th>\n",
       "      <th>Restaurant_name</th>\n",
       "      <th>Restaurant page URL link</th>\n",
       "      <th>Delivery fee</th>\n",
       "      <th>Estimated_delivery_time_min</th>\n",
       "      <th>Estimated_delivery_time_max</th>\n",
       "      <th>Estimated_delivery_time_average</th>\n",
       "      <th>Rating</th>\n",
       "      <th>status</th>\n",
       "      <th>promotion_uuid</th>\n",
       "    </tr>\n",
       "  </thead>\n",
       "  <tbody>\n",
       "    <tr>\n",
       "      <th>0</th>\n",
       "      <td>0</td>\n",
       "      <td>2d9c18e6-49a0-5f9c-a539-395911893bb2</td>\n",
       "      <td>Shahs Halal Food</td>\n",
       "      <td>https://www.ubereats.com/store/shahs-halal-foo...</td>\n",
       "      <td>2.79</td>\n",
       "      <td>35</td>\n",
       "      <td>50</td>\n",
       "      <td>42.5</td>\n",
       "      <td>4.5</td>\n",
       "      <td></td>\n",
       "      <td></td>\n",
       "    </tr>\n",
       "    <tr>\n",
       "      <th>1</th>\n",
       "      <td>1</td>\n",
       "      <td>9c99ec23-a6e2-4556-b096-0d2de4471e39</td>\n",
       "      <td>The Halal Guys</td>\n",
       "      <td>https://www.ubereats.com/store/the-halal-guys-...</td>\n",
       "      <td>0.29</td>\n",
       "      <td>15</td>\n",
       "      <td>30</td>\n",
       "      <td>22.5</td>\n",
       "      <td>4.2</td>\n",
       "      <td></td>\n",
       "      <td>f5f190ae-8214-4b07-96d8-52ee6e63623e</td>\n",
       "    </tr>\n",
       "    <tr>\n",
       "      <th>2</th>\n",
       "      <td>2</td>\n",
       "      <td>ca792fb2-2785-5428-bb43-730815c2fee1</td>\n",
       "      <td>Shahs halal food</td>\n",
       "      <td>https://www.ubereats.com/store/shahs-halal-foo...</td>\n",
       "      <td>4.29</td>\n",
       "      <td>35</td>\n",
       "      <td>50</td>\n",
       "      <td>42.5</td>\n",
       "      <td>4.6</td>\n",
       "      <td></td>\n",
       "      <td></td>\n",
       "    </tr>\n",
       "    <tr>\n",
       "      <th>3</th>\n",
       "      <td>3</td>\n",
       "      <td>7253197a-bc59-512d-98de-09e9f1a69f1f</td>\n",
       "      <td>Shah s Halal Food</td>\n",
       "      <td>https://www.ubereats.com/store/shahs-halal-foo...</td>\n",
       "      <td>4.29</td>\n",
       "      <td>30</td>\n",
       "      <td>45</td>\n",
       "      <td>37.5</td>\n",
       "      <td></td>\n",
       "      <td></td>\n",
       "      <td></td>\n",
       "    </tr>\n",
       "    <tr>\n",
       "      <th>4</th>\n",
       "      <td>4</td>\n",
       "      <td>4b3e8064-3664-5ae7-872e-6378416586a1</td>\n",
       "      <td>Shahs Halal Food</td>\n",
       "      <td>https://www.ubereats.com/store/shahs-halal-foo...</td>\n",
       "      <td>4.29</td>\n",
       "      <td>35</td>\n",
       "      <td>50</td>\n",
       "      <td>42.5</td>\n",
       "      <td></td>\n",
       "      <td></td>\n",
       "      <td></td>\n",
       "    </tr>\n",
       "  </tbody>\n",
       "</table>\n",
       "</div>"
      ],
      "text/plain": [
       "   Unnamed: 0                         Restaurant_ID    Restaurant_name   \n",
       "0           0  2d9c18e6-49a0-5f9c-a539-395911893bb2   Shahs Halal Food  \\\n",
       "1           1  9c99ec23-a6e2-4556-b096-0d2de4471e39     The Halal Guys   \n",
       "2           2  ca792fb2-2785-5428-bb43-730815c2fee1   Shahs halal food   \n",
       "3           3  7253197a-bc59-512d-98de-09e9f1a69f1f  Shah s Halal Food   \n",
       "4           4  4b3e8064-3664-5ae7-872e-6378416586a1   Shahs Halal Food   \n",
       "\n",
       "                            Restaurant page URL link Delivery fee   \n",
       "0  https://www.ubereats.com/store/shahs-halal-foo...         2.79  \\\n",
       "1  https://www.ubereats.com/store/the-halal-guys-...         0.29   \n",
       "2  https://www.ubereats.com/store/shahs-halal-foo...         4.29   \n",
       "3  https://www.ubereats.com/store/shahs-halal-foo...         4.29   \n",
       "4  https://www.ubereats.com/store/shahs-halal-foo...         4.29   \n",
       "\n",
       "  Estimated_delivery_time_min Estimated_delivery_time_max   \n",
       "0                          35                          50  \\\n",
       "1                          15                          30   \n",
       "2                          35                          50   \n",
       "3                          30                          45   \n",
       "4                          35                          50   \n",
       "\n",
       "  Estimated_delivery_time_average Rating status   \n",
       "0                            42.5    4.5         \\\n",
       "1                            22.5    4.2          \n",
       "2                            42.5    4.6          \n",
       "3                            37.5                 \n",
       "4                            42.5                 \n",
       "\n",
       "                         promotion_uuid  \n",
       "0                                        \n",
       "1  f5f190ae-8214-4b07-96d8-52ee6e63623e  \n",
       "2                                        \n",
       "3                                        \n",
       "4                                        "
      ]
     },
     "execution_count": 3,
     "metadata": {},
     "output_type": "execute_result"
    }
   ],
   "source": [
    "sample_restaurant_df_1.head()"
   ]
  },
  {
   "cell_type": "code",
   "execution_count": 4,
   "id": "fffdb3b6",
   "metadata": {},
   "outputs": [
    {
     "data": {
      "text/html": [
       "<div>\n",
       "<style scoped>\n",
       "    .dataframe tbody tr th:only-of-type {\n",
       "        vertical-align: middle;\n",
       "    }\n",
       "\n",
       "    .dataframe tbody tr th {\n",
       "        vertical-align: top;\n",
       "    }\n",
       "\n",
       "    .dataframe thead th {\n",
       "        text-align: right;\n",
       "    }\n",
       "</style>\n",
       "<table border=\"1\" class=\"dataframe\">\n",
       "  <thead>\n",
       "    <tr style=\"text-align: right;\">\n",
       "      <th></th>\n",
       "      <th>Unnamed: 0</th>\n",
       "      <th>Restaurant_ID</th>\n",
       "      <th>Restaurant_name</th>\n",
       "      <th>Restaurant page URL link</th>\n",
       "      <th>Delivery fee</th>\n",
       "      <th>Estimated_delivery_time_min</th>\n",
       "      <th>Estimated_delivery_time_max</th>\n",
       "      <th>Estimated_delivery_time_average</th>\n",
       "      <th>Rating</th>\n",
       "      <th>status</th>\n",
       "      <th>promotion_uuid</th>\n",
       "    </tr>\n",
       "  </thead>\n",
       "  <tbody>\n",
       "    <tr>\n",
       "      <th>0</th>\n",
       "      <td>0</td>\n",
       "      <td>d3e8d5b5-4fcd-52e8-9afc-043e8fbfb1c5</td>\n",
       "      <td>jojo s Grill Pizza</td>\n",
       "      <td>https://www.ubereats.com/store/jojos-grill-%26...</td>\n",
       "      <td>4.29</td>\n",
       "      <td>50</td>\n",
       "      <td>65</td>\n",
       "      <td>57.5</td>\n",
       "      <td></td>\n",
       "      <td></td>\n",
       "      <td>f0682412-4f44-4e6b-b28a-60d1f6475159</td>\n",
       "    </tr>\n",
       "    <tr>\n",
       "      <th>1</th>\n",
       "      <td>1</td>\n",
       "      <td>3182c2d0-1278-5176-9713-2402b4aa79d5</td>\n",
       "      <td>Express Grill Pizza</td>\n",
       "      <td>https://www.ubereats.com/store/express-grill-%...</td>\n",
       "      <td>4.29</td>\n",
       "      <td>40</td>\n",
       "      <td>55</td>\n",
       "      <td>47.5</td>\n",
       "      <td></td>\n",
       "      <td></td>\n",
       "      <td></td>\n",
       "    </tr>\n",
       "    <tr>\n",
       "      <th>2</th>\n",
       "      <td>2</td>\n",
       "      <td>5dfc8138-b296-4bae-80e9-091b684eae25</td>\n",
       "      <td>Tennessee Pizza BBQ</td>\n",
       "      <td>https://www.ubereats.com/store/tennessee-pizza...</td>\n",
       "      <td>4.29</td>\n",
       "      <td>35</td>\n",
       "      <td>50</td>\n",
       "      <td>42.5</td>\n",
       "      <td></td>\n",
       "      <td></td>\n",
       "      <td>c548b39d-d1a2-494c-b06b-b6561c7d8ac0</td>\n",
       "    </tr>\n",
       "    <tr>\n",
       "      <th>3</th>\n",
       "      <td>3</td>\n",
       "      <td>c8ca909f-436d-4bf5-9282-7b19046b063b</td>\n",
       "      <td>Snappy Tomato Pizza</td>\n",
       "      <td>https://www.ubereats.com/store/snappy-tomato-p...</td>\n",
       "      <td>4.29</td>\n",
       "      <td>30</td>\n",
       "      <td>45</td>\n",
       "      <td>37.5</td>\n",
       "      <td>4.6</td>\n",
       "      <td></td>\n",
       "      <td>7238111f-7593-4d4d-8893-dca43cef1102</td>\n",
       "    </tr>\n",
       "    <tr>\n",
       "      <th>4</th>\n",
       "      <td>4</td>\n",
       "      <td>7362875a-9f25-5f21-8a4b-99b60d65b89d</td>\n",
       "      <td>Mamma Mia Pizza</td>\n",
       "      <td>https://www.ubereats.com/store/mamma-mia-pizza...</td>\n",
       "      <td>2.00</td>\n",
       "      <td>25</td>\n",
       "      <td>45</td>\n",
       "      <td>35</td>\n",
       "      <td>4.1</td>\n",
       "      <td></td>\n",
       "      <td>58686ea9-6d1d-42b6-9027-0e08d18ed419</td>\n",
       "    </tr>\n",
       "  </tbody>\n",
       "</table>\n",
       "</div>"
      ],
      "text/plain": [
       "   Unnamed: 0                         Restaurant_ID      Restaurant_name   \n",
       "0           0  d3e8d5b5-4fcd-52e8-9afc-043e8fbfb1c5   jojo s Grill Pizza  \\\n",
       "1           1  3182c2d0-1278-5176-9713-2402b4aa79d5  Express Grill Pizza   \n",
       "2           2  5dfc8138-b296-4bae-80e9-091b684eae25  Tennessee Pizza BBQ   \n",
       "3           3  c8ca909f-436d-4bf5-9282-7b19046b063b  Snappy Tomato Pizza   \n",
       "4           4  7362875a-9f25-5f21-8a4b-99b60d65b89d      Mamma Mia Pizza   \n",
       "\n",
       "                            Restaurant page URL link  Delivery fee   \n",
       "0  https://www.ubereats.com/store/jojos-grill-%26...          4.29  \\\n",
       "1  https://www.ubereats.com/store/express-grill-%...          4.29   \n",
       "2  https://www.ubereats.com/store/tennessee-pizza...          4.29   \n",
       "3  https://www.ubereats.com/store/snappy-tomato-p...          4.29   \n",
       "4  https://www.ubereats.com/store/mamma-mia-pizza...          2.00   \n",
       "\n",
       "  Estimated_delivery_time_min Estimated_delivery_time_max   \n",
       "0                          50                          65  \\\n",
       "1                          40                          55   \n",
       "2                          35                          50   \n",
       "3                          30                          45   \n",
       "4                          25                          45   \n",
       "\n",
       "  Estimated_delivery_time_average Rating status   \n",
       "0                            57.5                \\\n",
       "1                            47.5                 \n",
       "2                            42.5                 \n",
       "3                            37.5    4.6          \n",
       "4                              35    4.1          \n",
       "\n",
       "                         promotion_uuid  \n",
       "0  f0682412-4f44-4e6b-b28a-60d1f6475159  \n",
       "1                                        \n",
       "2  c548b39d-d1a2-494c-b06b-b6561c7d8ac0  \n",
       "3  7238111f-7593-4d4d-8893-dca43cef1102  \n",
       "4  58686ea9-6d1d-42b6-9027-0e08d18ed419  "
      ]
     },
     "execution_count": 4,
     "metadata": {},
     "output_type": "execute_result"
    }
   ],
   "source": [
    "sample_restaurant_df_2.head()"
   ]
  },
  {
   "cell_type": "markdown",
   "id": "2230e63c",
   "metadata": {},
   "source": [
    "**Step 2:** Detect any leading or trailing spaces in the **Restaurant_name** values and remove them for cleaning."
   ]
  },
  {
   "cell_type": "code",
   "execution_count": 5,
   "id": "469f504f",
   "metadata": {},
   "outputs": [],
   "source": [
    "sample_restaurant_df_1['Restaurant_name'] = sample_restaurant_df_1['Restaurant_name'].str.strip()\n",
    "sample_restaurant_df_2['Restaurant_name'] = sample_restaurant_df_2['Restaurant_name'].str.strip()"
   ]
  },
  {
   "cell_type": "markdown",
   "id": "f8c5e75a",
   "metadata": {},
   "source": [
    "**Step 3:** Create a record linkage indexer"
   ]
  },
  {
   "cell_type": "code",
   "execution_count": 6,
   "id": "530eb9bb",
   "metadata": {},
   "outputs": [],
   "source": [
    "indexer = recordlinkage.Index()"
   ]
  },
  {
   "cell_type": "markdown",
   "id": "51da1c09",
   "metadata": {},
   "source": [
    "**Step 4:** Define a blocking method to group similar records\n"
   ]
  },
  {
   "cell_type": "code",
   "execution_count": 7,
   "id": "18ea5691",
   "metadata": {},
   "outputs": [
    {
     "data": {
      "text/plain": [
       "<Index>"
      ]
     },
     "execution_count": 7,
     "metadata": {},
     "output_type": "execute_result"
    }
   ],
   "source": [
    "indexer.block('Restaurant_name')"
   ]
  },
  {
   "cell_type": "markdown",
   "id": "80d290c7",
   "metadata": {},
   "source": [
    "**Step 5:** Generate pairs of records to compare for potential duplicates\n"
   ]
  },
  {
   "cell_type": "code",
   "execution_count": 8,
   "id": "1aa38628",
   "metadata": {},
   "outputs": [],
   "source": [
    "pairs = indexer.index(sample_restaurant_df_1,sample_restaurant_df_2)"
   ]
  },
  {
   "cell_type": "markdown",
   "id": "43263ae8",
   "metadata": {},
   "source": [
    "**Step 6:** Create a comparison object to specify how to compare records\n"
   ]
  },
  {
   "cell_type": "code",
   "execution_count": 9,
   "id": "8d237ce9",
   "metadata": {},
   "outputs": [],
   "source": [
    "compare_cl = recordlinkage.Compare()"
   ]
  },
  {
   "cell_type": "markdown",
   "id": "1acf4413",
   "metadata": {},
   "source": [
    "**Step 7:** Perform a string comparison using the Levenshtein method with a threshold\n"
   ]
  },
  {
   "cell_type": "code",
   "execution_count": 10,
   "id": "a51c841e",
   "metadata": {},
   "outputs": [
    {
     "data": {
      "text/plain": [
       "<Compare>"
      ]
     },
     "execution_count": 10,
     "metadata": {},
     "output_type": "execute_result"
    }
   ],
   "source": [
    "compare_cl.string('Restaurant_name', 'Restaurant_name', method='levenshtein', threshold=1)"
   ]
  },
  {
   "cell_type": "markdown",
   "id": "c2316435",
   "metadata": {},
   "source": [
    "**Step 8:** Compute the comparison features for the pairs of records"
   ]
  },
  {
   "cell_type": "code",
   "execution_count": 11,
   "id": "0d4991b8",
   "metadata": {},
   "outputs": [],
   "source": [
    "features = compare_cl.compute(pairs, sample_restaurant_df_1,sample_restaurant_df_2)"
   ]
  },
  {
   "cell_type": "markdown",
   "id": "6f01933c",
   "metadata": {},
   "source": [
    "**Step 9:** Classification - Set a threshold to classify duplicates"
   ]
  },
  {
   "cell_type": "code",
   "execution_count": 12,
   "id": "f2559230",
   "metadata": {},
   "outputs": [],
   "source": [
    "matches = features[features.sum(axis=1) >= 0]"
   ]
  },
  {
   "cell_type": "code",
   "execution_count": 13,
   "id": "269666b2",
   "metadata": {
    "scrolled": true
   },
   "outputs": [
    {
     "data": {
      "text/html": [
       "<div>\n",
       "<style scoped>\n",
       "    .dataframe tbody tr th:only-of-type {\n",
       "        vertical-align: middle;\n",
       "    }\n",
       "\n",
       "    .dataframe tbody tr th {\n",
       "        vertical-align: top;\n",
       "    }\n",
       "\n",
       "    .dataframe thead th {\n",
       "        text-align: right;\n",
       "    }\n",
       "</style>\n",
       "<table border=\"1\" class=\"dataframe\">\n",
       "  <thead>\n",
       "    <tr style=\"text-align: right;\">\n",
       "      <th></th>\n",
       "      <th></th>\n",
       "      <th>0</th>\n",
       "    </tr>\n",
       "  </thead>\n",
       "  <tbody>\n",
       "    <tr>\n",
       "      <th>8</th>\n",
       "      <th>41</th>\n",
       "      <td>1.0</td>\n",
       "    </tr>\n",
       "    <tr>\n",
       "      <th>284</th>\n",
       "      <th>41</th>\n",
       "      <td>1.0</td>\n",
       "    </tr>\n",
       "    <tr>\n",
       "      <th>300</th>\n",
       "      <th>41</th>\n",
       "      <td>1.0</td>\n",
       "    </tr>\n",
       "    <tr>\n",
       "      <th>313</th>\n",
       "      <th>41</th>\n",
       "      <td>1.0</td>\n",
       "    </tr>\n",
       "    <tr>\n",
       "      <th>314</th>\n",
       "      <th>41</th>\n",
       "      <td>1.0</td>\n",
       "    </tr>\n",
       "    <tr>\n",
       "      <th>14</th>\n",
       "      <th>172</th>\n",
       "      <td>1.0</td>\n",
       "    </tr>\n",
       "    <tr>\n",
       "      <th>39</th>\n",
       "      <th>166</th>\n",
       "      <td>1.0</td>\n",
       "    </tr>\n",
       "    <tr>\n",
       "      <th>52</th>\n",
       "      <th>12</th>\n",
       "      <td>1.0</td>\n",
       "    </tr>\n",
       "    <tr>\n",
       "      <th>119</th>\n",
       "      <th>12</th>\n",
       "      <td>1.0</td>\n",
       "    </tr>\n",
       "    <tr>\n",
       "      <th>54</th>\n",
       "      <th>112</th>\n",
       "      <td>1.0</td>\n",
       "    </tr>\n",
       "    <tr>\n",
       "      <th>66</th>\n",
       "      <th>13</th>\n",
       "      <td>1.0</td>\n",
       "    </tr>\n",
       "    <tr>\n",
       "      <th>74</th>\n",
       "      <th>113</th>\n",
       "      <td>1.0</td>\n",
       "    </tr>\n",
       "    <tr>\n",
       "      <th>85</th>\n",
       "      <th>66</th>\n",
       "      <td>1.0</td>\n",
       "    </tr>\n",
       "    <tr>\n",
       "      <th>112</th>\n",
       "      <th>159</th>\n",
       "      <td>1.0</td>\n",
       "    </tr>\n",
       "    <tr>\n",
       "      <th>122</th>\n",
       "      <th>193</th>\n",
       "      <td>1.0</td>\n",
       "    </tr>\n",
       "    <tr>\n",
       "      <th>123</th>\n",
       "      <th>76</th>\n",
       "      <td>1.0</td>\n",
       "    </tr>\n",
       "    <tr>\n",
       "      <th>125</th>\n",
       "      <th>105</th>\n",
       "      <td>1.0</td>\n",
       "    </tr>\n",
       "    <tr>\n",
       "      <th>134</th>\n",
       "      <th>99</th>\n",
       "      <td>1.0</td>\n",
       "    </tr>\n",
       "    <tr>\n",
       "      <th>141</th>\n",
       "      <th>15</th>\n",
       "      <td>1.0</td>\n",
       "    </tr>\n",
       "    <tr>\n",
       "      <th>144</th>\n",
       "      <th>74</th>\n",
       "      <td>1.0</td>\n",
       "    </tr>\n",
       "    <tr>\n",
       "      <th>154</th>\n",
       "      <th>194</th>\n",
       "      <td>1.0</td>\n",
       "    </tr>\n",
       "    <tr>\n",
       "      <th>157</th>\n",
       "      <th>16</th>\n",
       "      <td>1.0</td>\n",
       "    </tr>\n",
       "    <tr>\n",
       "      <th>158</th>\n",
       "      <th>134</th>\n",
       "      <td>1.0</td>\n",
       "    </tr>\n",
       "    <tr>\n",
       "      <th>171</th>\n",
       "      <th>147</th>\n",
       "      <td>1.0</td>\n",
       "    </tr>\n",
       "    <tr>\n",
       "      <th>177</th>\n",
       "      <th>47</th>\n",
       "      <td>1.0</td>\n",
       "    </tr>\n",
       "    <tr>\n",
       "      <th>184</th>\n",
       "      <th>148</th>\n",
       "      <td>1.0</td>\n",
       "    </tr>\n",
       "    <tr>\n",
       "      <th>195</th>\n",
       "      <th>17</th>\n",
       "      <td>1.0</td>\n",
       "    </tr>\n",
       "    <tr>\n",
       "      <th>216</th>\n",
       "      <th>39</th>\n",
       "      <td>1.0</td>\n",
       "    </tr>\n",
       "    <tr>\n",
       "      <th>217</th>\n",
       "      <th>18</th>\n",
       "      <td>1.0</td>\n",
       "    </tr>\n",
       "    <tr>\n",
       "      <th>218</th>\n",
       "      <th>196</th>\n",
       "      <td>1.0</td>\n",
       "    </tr>\n",
       "    <tr>\n",
       "      <th>224</th>\n",
       "      <th>135</th>\n",
       "      <td>1.0</td>\n",
       "    </tr>\n",
       "    <tr>\n",
       "      <th>227</th>\n",
       "      <th>88</th>\n",
       "      <td>1.0</td>\n",
       "    </tr>\n",
       "    <tr>\n",
       "      <th>229</th>\n",
       "      <th>70</th>\n",
       "      <td>1.0</td>\n",
       "    </tr>\n",
       "    <tr>\n",
       "      <th>258</th>\n",
       "      <th>125</th>\n",
       "      <td>1.0</td>\n",
       "    </tr>\n",
       "    <tr>\n",
       "      <th>318</th>\n",
       "      <th>154</th>\n",
       "      <td>1.0</td>\n",
       "    </tr>\n",
       "    <tr>\n",
       "      <th>358</th>\n",
       "      <th>249</th>\n",
       "      <td>1.0</td>\n",
       "    </tr>\n",
       "    <tr>\n",
       "      <th>362</th>\n",
       "      <th>251</th>\n",
       "      <td>1.0</td>\n",
       "    </tr>\n",
       "    <tr>\n",
       "      <th>364</th>\n",
       "      <th>224</th>\n",
       "      <td>1.0</td>\n",
       "    </tr>\n",
       "    <tr>\n",
       "      <th>373</th>\n",
       "      <th>253</th>\n",
       "      <td>1.0</td>\n",
       "    </tr>\n",
       "    <tr>\n",
       "      <th>376</th>\n",
       "      <th>236</th>\n",
       "      <td>1.0</td>\n",
       "    </tr>\n",
       "    <tr>\n",
       "      <th>377</th>\n",
       "      <th>0</th>\n",
       "      <td>1.0</td>\n",
       "    </tr>\n",
       "  </tbody>\n",
       "</table>\n",
       "</div>"
      ],
      "text/plain": [
       "           0\n",
       "8   41   1.0\n",
       "284 41   1.0\n",
       "300 41   1.0\n",
       "313 41   1.0\n",
       "314 41   1.0\n",
       "14  172  1.0\n",
       "39  166  1.0\n",
       "52  12   1.0\n",
       "119 12   1.0\n",
       "54  112  1.0\n",
       "66  13   1.0\n",
       "74  113  1.0\n",
       "85  66   1.0\n",
       "112 159  1.0\n",
       "122 193  1.0\n",
       "123 76   1.0\n",
       "125 105  1.0\n",
       "134 99   1.0\n",
       "141 15   1.0\n",
       "144 74   1.0\n",
       "154 194  1.0\n",
       "157 16   1.0\n",
       "158 134  1.0\n",
       "171 147  1.0\n",
       "177 47   1.0\n",
       "184 148  1.0\n",
       "195 17   1.0\n",
       "216 39   1.0\n",
       "217 18   1.0\n",
       "218 196  1.0\n",
       "224 135  1.0\n",
       "227 88   1.0\n",
       "229 70   1.0\n",
       "258 125  1.0\n",
       "318 154  1.0\n",
       "358 249  1.0\n",
       "362 251  1.0\n",
       "364 224  1.0\n",
       "373 253  1.0\n",
       "376 236  1.0\n",
       "377 0    1.0"
      ]
     },
     "execution_count": 13,
     "metadata": {},
     "output_type": "execute_result"
    }
   ],
   "source": [
    "matches"
   ]
  },
  {
   "cell_type": "code",
   "execution_count": 14,
   "id": "7f78659f",
   "metadata": {},
   "outputs": [
    {
     "name": "stdout",
     "output_type": "stream",
     "text": [
      "sample_df_1: jojo s Grill Pizza      sample_df_2: jojo s Grill Pizza\n"
     ]
    }
   ],
   "source": [
    "print('sample_df_1:',sample_restaurant_df_1['Restaurant_name'].loc[377],\"    \",\"sample_df_2:\",sample_restaurant_df_2['Restaurant_name'].loc[0])\n"
   ]
  },
  {
   "cell_type": "code",
   "execution_count": 15,
   "id": "384b8644",
   "metadata": {},
   "outputs": [
    {
     "name": "stdout",
     "output_type": "stream",
     "text": [
      "sample_df_1: LDN Pizza Co      sample_df_2: LDN Pizza Co\n"
     ]
    }
   ],
   "source": [
    "print('sample_df_1:',sample_restaurant_df_1['Restaurant_name'].loc[376],\"    \",\"sample_df_2:\",sample_restaurant_df_2['Restaurant_name'].loc[236])\n"
   ]
  },
  {
   "cell_type": "code",
   "execution_count": 16,
   "id": "9c5cab90",
   "metadata": {},
   "outputs": [
    {
     "name": "stdout",
     "output_type": "stream",
     "text": [
      "sample_df_1: China Express      sample_df_2: China Express\n"
     ]
    }
   ],
   "source": [
    "print('sample_df_1:',sample_restaurant_df_1['Restaurant_name'].loc[373],\"    \",\"sample_df_2:\",sample_restaurant_df_2['Restaurant_name'].loc[253])\n"
   ]
  },
  {
   "cell_type": "code",
   "execution_count": 17,
   "id": "5494dd34",
   "metadata": {},
   "outputs": [
    {
     "name": "stdout",
     "output_type": "stream",
     "text": [
      "sample_df_1: Master Kebab and Pizza      sample_df_2: Master Kebab and Pizza\n"
     ]
    }
   ],
   "source": [
    "print('sample_df_1:',sample_restaurant_df_1['Restaurant_name'].loc[224],\"    \",\"sample_df_2:\",sample_restaurant_df_2['Restaurant_name'].loc[135])\n"
   ]
  },
  {
   "cell_type": "markdown",
   "id": "15b47cfb",
   "metadata": {},
   "source": [
    "**conclusion:**\n",
    "\n",
    "The record linkage analysis has successfully identified and linked duplicate records between the two dataframes, Providing extracted from the Ubereats page."
   ]
  },
  {
   "cell_type": "code",
   "execution_count": null,
   "id": "23bbd6ab",
   "metadata": {},
   "outputs": [],
   "source": []
  }
 ],
 "metadata": {
  "kernelspec": {
   "display_name": "Python 3 (ipykernel)",
   "language": "python",
   "name": "python3"
  },
  "language_info": {
   "codemirror_mode": {
    "name": "ipython",
    "version": 3
   },
   "file_extension": ".py",
   "mimetype": "text/x-python",
   "name": "python",
   "nbconvert_exporter": "python",
   "pygments_lexer": "ipython3",
   "version": "3.11.3"
  }
 },
 "nbformat": 4,
 "nbformat_minor": 5
}
