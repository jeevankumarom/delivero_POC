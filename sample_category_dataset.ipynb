{
 "cells": [
  {
   "cell_type": "markdown",
   "id": "44edf11d",
   "metadata": {},
   "source": [
    "## Discovering deduplication using the Recordlinkage toolkit"
   ]
  },
  {
   "cell_type": "code",
   "execution_count": 1,
   "id": "2a012955",
   "metadata": {},
   "outputs": [],
   "source": [
    "# Import the necessary libraries\n",
    "import recordlinkage\n",
    "import pandas as pd"
   ]
  },
  {
   "cell_type": "markdown",
   "id": "420a5188",
   "metadata": {},
   "source": [
    "**Step 1:** Read the sample category dataset"
   ]
  },
  {
   "cell_type": "code",
   "execution_count": 2,
   "id": "d04da729",
   "metadata": {},
   "outputs": [
    {
     "data": {
      "text/html": [
       "<div>\n",
       "<style scoped>\n",
       "    .dataframe tbody tr th:only-of-type {\n",
       "        vertical-align: middle;\n",
       "    }\n",
       "\n",
       "    .dataframe tbody tr th {\n",
       "        vertical-align: top;\n",
       "    }\n",
       "\n",
       "    .dataframe thead th {\n",
       "        text-align: right;\n",
       "    }\n",
       "</style>\n",
       "<table border=\"1\" class=\"dataframe\">\n",
       "  <thead>\n",
       "    <tr style=\"text-align: right;\">\n",
       "      <th></th>\n",
       "      <th>Unnamed: 0</th>\n",
       "      <th>categories</th>\n",
       "      <th>category_link</th>\n",
       "    </tr>\n",
       "  </thead>\n",
       "  <tbody>\n",
       "    <tr>\n",
       "      <th>0</th>\n",
       "      <td>0</td>\n",
       "      <td>Halal</td>\n",
       "      <td>https://www.ubereats.com/gb/search?kn=Halal&amp;pl...</td>\n",
       "    </tr>\n",
       "    <tr>\n",
       "      <th>1</th>\n",
       "      <td>1</td>\n",
       "      <td>Pizza</td>\n",
       "      <td>https://www.ubereats.com/gb/search?kn=Pizza&amp;pl...</td>\n",
       "    </tr>\n",
       "    <tr>\n",
       "      <th>2</th>\n",
       "      <td>2</td>\n",
       "      <td>Breakfast and brunch</td>\n",
       "      <td>https://www.ubereats.com/gb/search?kn=Breakfas...</td>\n",
       "    </tr>\n",
       "    <tr>\n",
       "      <th>3</th>\n",
       "      <td>3</td>\n",
       "      <td>Chinese</td>\n",
       "      <td>https://www.ubereats.com/gb/search?kn=Chinese&amp;...</td>\n",
       "    </tr>\n",
       "    <tr>\n",
       "      <th>4</th>\n",
       "      <td>4</td>\n",
       "      <td>[]</td>\n",
       "      <td>https://www.ubereats.com/gb/search?carid=eyJwb...</td>\n",
       "    </tr>\n",
       "    <tr>\n",
       "      <th>...</th>\n",
       "      <td>...</td>\n",
       "      <td>...</td>\n",
       "      <td>...</td>\n",
       "    </tr>\n",
       "    <tr>\n",
       "      <th>149</th>\n",
       "      <td>149</td>\n",
       "      <td>Latin fusion</td>\n",
       "      <td>https://www.ubereats.com/gb/search?kn=LatinFus...</td>\n",
       "    </tr>\n",
       "    <tr>\n",
       "      <th>150</th>\n",
       "      <td>150</td>\n",
       "      <td>Northeastern Thai</td>\n",
       "      <td>https://www.ubereats.com/gb/search?kn=Northeas...</td>\n",
       "    </tr>\n",
       "    <tr>\n",
       "      <th>151</th>\n",
       "      <td>151</td>\n",
       "      <td>Gluten-free friendly</td>\n",
       "      <td>https://www.ubereats.com/gb/search?kn=GlutenFr...</td>\n",
       "    </tr>\n",
       "    <tr>\n",
       "      <th>152</th>\n",
       "      <td>152</td>\n",
       "      <td>Belgian</td>\n",
       "      <td>https://www.ubereats.com/gb/search?kn=Belgian&amp;...</td>\n",
       "    </tr>\n",
       "    <tr>\n",
       "      <th>153</th>\n",
       "      <td>153</td>\n",
       "      <td>Kid friendly</td>\n",
       "      <td>https://www.ubereats.com/gb/search?kn=KidsFrie...</td>\n",
       "    </tr>\n",
       "  </tbody>\n",
       "</table>\n",
       "<p>154 rows × 3 columns</p>\n",
       "</div>"
      ],
      "text/plain": [
       "     Unnamed: 0            categories   \n",
       "0             0                 Halal  \\\n",
       "1             1                 Pizza   \n",
       "2             2  Breakfast and brunch   \n",
       "3             3               Chinese   \n",
       "4             4                    []   \n",
       "..          ...                   ...   \n",
       "149         149          Latin fusion   \n",
       "150         150     Northeastern Thai   \n",
       "151         151  Gluten-free friendly   \n",
       "152         152               Belgian   \n",
       "153         153          Kid friendly   \n",
       "\n",
       "                                         category_link  \n",
       "0    https://www.ubereats.com/gb/search?kn=Halal&pl...  \n",
       "1    https://www.ubereats.com/gb/search?kn=Pizza&pl...  \n",
       "2    https://www.ubereats.com/gb/search?kn=Breakfas...  \n",
       "3    https://www.ubereats.com/gb/search?kn=Chinese&...  \n",
       "4    https://www.ubereats.com/gb/search?carid=eyJwb...  \n",
       "..                                                 ...  \n",
       "149  https://www.ubereats.com/gb/search?kn=LatinFus...  \n",
       "150  https://www.ubereats.com/gb/search?kn=Northeas...  \n",
       "151  https://www.ubereats.com/gb/search?kn=GlutenFr...  \n",
       "152  https://www.ubereats.com/gb/search?kn=Belgian&...  \n",
       "153  https://www.ubereats.com/gb/search?kn=KidsFrie...  \n",
       "\n",
       "[154 rows x 3 columns]"
      ]
     },
     "execution_count": 2,
     "metadata": {},
     "output_type": "execute_result"
    }
   ],
   "source": [
    "sample_category_df = pd.read_csv('./Category_list.csv')\n",
    "sample_category_df"
   ]
  },
  {
   "cell_type": "markdown",
   "id": "c99c6af7",
   "metadata": {},
   "source": [
    "**Step 2:** Find the empty category values and clean them\n"
   ]
  },
  {
   "cell_type": "code",
   "execution_count": 3,
   "id": "3ed0ef68",
   "metadata": {},
   "outputs": [],
   "source": [
    "sample_category_df['categories'] = sample_category_df['categories'].apply(lambda x: x if x != '[]' else 'No category')\n",
    "sample_category_df = sample_category_df[sample_category_df['categories'] != 'No category']"
   ]
  },
  {
   "cell_type": "markdown",
   "id": "e0b93419",
   "metadata": {},
   "source": [
    "**Step 3:** Create a record linkage indexer\n"
   ]
  },
  {
   "cell_type": "code",
   "execution_count": 4,
   "id": "24ec1929",
   "metadata": {},
   "outputs": [],
   "source": [
    "indexer = recordlinkage.Index()"
   ]
  },
  {
   "cell_type": "markdown",
   "id": "8933a03b",
   "metadata": {},
   "source": [
    "**Step 4:** Define a blocking method to group similar records\n"
   ]
  },
  {
   "cell_type": "code",
   "execution_count": 5,
   "id": "02f8e0ef",
   "metadata": {},
   "outputs": [
    {
     "data": {
      "text/plain": [
       "<Index>"
      ]
     },
     "execution_count": 5,
     "metadata": {},
     "output_type": "execute_result"
    }
   ],
   "source": [
    "indexer.block('categories')"
   ]
  },
  {
   "cell_type": "markdown",
   "id": "bba4d794",
   "metadata": {},
   "source": [
    "**Step 5:** Generate pairs of records to compare for potential duplicates\n"
   ]
  },
  {
   "cell_type": "code",
   "execution_count": 6,
   "id": "2ca206a6",
   "metadata": {},
   "outputs": [],
   "source": [
    "pairs = indexer.index(sample_category_df)"
   ]
  },
  {
   "cell_type": "markdown",
   "id": "c01cfbe1",
   "metadata": {},
   "source": [
    "**Step 6:** Create a comparison object to specify how to compare records\n"
   ]
  },
  {
   "cell_type": "code",
   "execution_count": 7,
   "id": "3bdb8ec1",
   "metadata": {},
   "outputs": [],
   "source": [
    "compare_cl = recordlinkage.Compare()"
   ]
  },
  {
   "cell_type": "markdown",
   "id": "feee0e8a",
   "metadata": {},
   "source": [
    "**Step 7:** Perform a string comparison using the Levenshtein method with a threshold\n"
   ]
  },
  {
   "cell_type": "code",
   "execution_count": 8,
   "id": "05230bea",
   "metadata": {},
   "outputs": [
    {
     "data": {
      "text/plain": [
       "<Compare>"
      ]
     },
     "execution_count": 8,
     "metadata": {},
     "output_type": "execute_result"
    }
   ],
   "source": [
    "compare_cl.string('categories', 'categories', method='levenshtein', threshold=0.65)"
   ]
  },
  {
   "cell_type": "markdown",
   "id": "91e0d893",
   "metadata": {},
   "source": [
    "**Step 8:** Compute the comparison features for the pairs of records"
   ]
  },
  {
   "cell_type": "code",
   "execution_count": 9,
   "id": "16479d3a",
   "metadata": {},
   "outputs": [],
   "source": [
    "features = compare_cl.compute(pairs, sample_category_df)"
   ]
  },
  {
   "cell_type": "markdown",
   "id": "05061af6",
   "metadata": {},
   "source": [
    "**Step 9:** Classification - Set a threshold to classify duplicates\n"
   ]
  },
  {
   "cell_type": "code",
   "execution_count": 10,
   "id": "ad9b653f",
   "metadata": {},
   "outputs": [],
   "source": [
    "matches = features[features.sum(axis=1) >= 0]"
   ]
  },
  {
   "cell_type": "code",
   "execution_count": 11,
   "id": "e5d37b2a",
   "metadata": {},
   "outputs": [
    {
     "data": {
      "text/html": [
       "<div>\n",
       "<style scoped>\n",
       "    .dataframe tbody tr th:only-of-type {\n",
       "        vertical-align: middle;\n",
       "    }\n",
       "\n",
       "    .dataframe tbody tr th {\n",
       "        vertical-align: top;\n",
       "    }\n",
       "\n",
       "    .dataframe thead th {\n",
       "        text-align: right;\n",
       "    }\n",
       "</style>\n",
       "<table border=\"1\" class=\"dataframe\">\n",
       "  <thead>\n",
       "    <tr style=\"text-align: right;\">\n",
       "      <th></th>\n",
       "      <th></th>\n",
       "      <th>0</th>\n",
       "    </tr>\n",
       "  </thead>\n",
       "  <tbody>\n",
       "    <tr>\n",
       "      <th>77</th>\n",
       "      <th>6</th>\n",
       "      <td>1.0</td>\n",
       "    </tr>\n",
       "  </tbody>\n",
       "</table>\n",
       "</div>"
      ],
      "text/plain": [
       "        0\n",
       "77 6  1.0"
      ]
     },
     "execution_count": 11,
     "metadata": {},
     "output_type": "execute_result"
    }
   ],
   "source": [
    "matches"
   ]
  },
  {
   "cell_type": "markdown",
   "id": "96ad12f5",
   "metadata": {},
   "source": [
    "Identify and duplicate values."
   ]
  },
  {
   "cell_type": "code",
   "execution_count": 12,
   "id": "04b564d9",
   "metadata": {},
   "outputs": [
    {
     "data": {
      "text/plain": [
       "'Convenience'"
      ]
     },
     "execution_count": 12,
     "metadata": {},
     "output_type": "execute_result"
    }
   ],
   "source": [
    "sample_category_df['categories'].loc[77]"
   ]
  },
  {
   "cell_type": "code",
   "execution_count": 13,
   "id": "37df8ed3",
   "metadata": {},
   "outputs": [
    {
     "data": {
      "text/plain": [
       "'Convenience'"
      ]
     },
     "execution_count": 13,
     "metadata": {},
     "output_type": "execute_result"
    }
   ],
   "source": [
    "sample_category_df['categories'].loc[6]"
   ]
  },
  {
   "cell_type": "markdown",
   "id": "485de0fb",
   "metadata": {},
   "source": [
    "**conclusion:**\n",
    "\n",
    "We are able to find out duplicate category names from the list of various categories extracted from the Ubereats page using the recrodlinkage package.This saves us time from having to manually check whether there are duplicates after extraction"
   ]
  },
  {
   "cell_type": "code",
   "execution_count": null,
   "id": "59cf51ce",
   "metadata": {},
   "outputs": [],
   "source": []
  }
 ],
 "metadata": {
  "kernelspec": {
   "display_name": "Python 3 (ipykernel)",
   "language": "python",
   "name": "python3"
  },
  "language_info": {
   "codemirror_mode": {
    "name": "ipython",
    "version": 3
   },
   "file_extension": ".py",
   "mimetype": "text/x-python",
   "name": "python",
   "nbconvert_exporter": "python",
   "pygments_lexer": "ipython3",
   "version": "3.11.3"
  }
 },
 "nbformat": 4,
 "nbformat_minor": 5
}
